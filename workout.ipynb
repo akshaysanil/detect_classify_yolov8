{
 "cells": [
  {
   "cell_type": "code",
   "execution_count": 1,
   "metadata": {},
   "outputs": [
    {
     "name": "stdout",
     "output_type": "stream",
     "text": [
      "76 157 3\n"
     ]
    }
   ],
   "source": [
    "import cv2\n",
    "\n",
    "immg = cv2.imread('classification_dataset/valid/blue/a90bfb06-fee3-4d3d-ae8e-a57a4e5e8d79_0.jpg')\n",
    "\n",
    "height, width, channels = immg.shape\n",
    "print(height, width, channels)"
   ]
  },
  {
   "cell_type": "code",
   "execution_count": null,
   "metadata": {},
   "outputs": [],
   "source": [
    "from ultralytics import YOLO\n",
    "import cv2\n",
    "import numpy as np\n",
    "from ultralytics.utils.plotting import Annotator\n",
    "\n",
    "color_dict = {'red': (0,0,255), 'green': (0, 255, 0), 'blue': (255,0, 0),\n",
    "              'yellow': (66, 236,245), 'violet': ( 245,66,111), 'black': (0, 0, 0), }\n",
    "\n",
    "default_color = (255, 255, 255)\n",
    "\n",
    "\n",
    "def detect_bands(img_path):\n",
    "    detec_model = YOLO(\"best_v2.pt\")\n",
    "    img = cv2.imread(img_path)\n",
    "    results = detec_model(img)  # list of Results objects\n",
    "\n",
    "    for r in results:\n",
    "        boxes = r.boxes\n",
    "        # print(box.xyxy)\n",
    "        for box in boxes:\n",
    "            # print(box.xyxy)\n",
    "            print(box.xyxy[0])\n",
    "            x1, y1, x2, y2 = map(int, box.xyxy[0])  # box.xyxy[0]\n",
    "            croped = img[y1:y2, x1:x2]\n",
    "            color_name = find_color_of_bands(croped)\n",
    "            label = f'Band-({color_name})'\n",
    "            cv2.imwrite(\"croped.jpg\", croped)\n",
    "\n",
    "            # print('croped image save in croped.jpg')\n",
    "            if results is not None:\n",
    "                anno = Annotator(img, line_width=2, font_size=2)\n",
    "                # print(r.names)\n",
    "                # color: Any = (128, 128, 128),\n",
    "                # txt_color: Any = (255, 255, 255)\n",
    "                # annotated_frame = results[0].plot(labels=False)\n",
    "                anno.box_label(box.xyxy[0], label=label,color=color_dict.get(color_name,default_color))\n",
    "                cv2.imwrite('annotated.jpg', img)\n",
    "                # cv2.imwrite('annotated_2.jpg',anno.img)\n",
    "\n",
    "        # cv2.imshow('annotated',annnotator)        # cv2.imwrite(\"annotated.jpg\",annotated_frame)\n",
    "\n",
    "\n",
    "def find_color_of_bands(band_croped_img):\n",
    "    cls_model = YOLO(\"best_clr_cls.pt\")\n",
    "    classify_result = cls_model(band_croped_img)\n",
    "    for result in classify_result:\n",
    "        id = result.probs.top1\n",
    "        name = result.names[id]\n",
    "        print('detected band color is : ', name)\n",
    "    return name\n",
    "\n",
    "\n",
    "img_path = \"bands/images/74d6a37f-984b-4ee7-813a-d6fcb50acace.jpg\"\n",
    "detect_bands(img_path)\n"
   ]
  }
 ],
 "metadata": {
  "kernelspec": {
   "display_name": "py39band",
   "language": "python",
   "name": "python3"
  },
  "language_info": {
   "codemirror_mode": {
    "name": "ipython",
    "version": 3
   },
   "file_extension": ".py",
   "mimetype": "text/x-python",
   "name": "python",
   "nbconvert_exporter": "python",
   "pygments_lexer": "ipython3",
   "version": "3.9.19"
  }
 },
 "nbformat": 4,
 "nbformat_minor": 2
}
